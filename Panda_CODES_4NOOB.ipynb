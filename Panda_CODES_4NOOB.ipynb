{
  "nbformat": 4,
  "nbformat_minor": 0,
  "metadata": {
    "colab": {
      "name": "Panda_CODES_4NOOB",
      "provenance": [],
      "collapsed_sections": [],
      "include_colab_link": true
    },
    "kernelspec": {
      "name": "python3",
      "display_name": "Python 3"
    }
  },
  "cells": [
    {
      "cell_type": "markdown",
      "metadata": {
        "id": "view-in-github",
        "colab_type": "text"
      },
      "source": [
        "<a href=\"https://colab.research.google.com/github/daddyawesome/BSProject/blob/master/Panda_CODES_4NOOB.ipynb\" target=\"_parent\"><img src=\"https://colab.research.google.com/assets/colab-badge.svg\" alt=\"Open In Colab\"/></a>"
      ]
    },
    {
      "cell_type": "markdown",
      "metadata": {
        "id": "6wcboQgPwXYO",
        "colab_type": "text"
      },
      "source": [
        "# FIRST DON'T Foget the imports"
      ]
    },
    {
      "cell_type": "code",
      "metadata": {
        "id": "sxlCCZWjwZ3H",
        "colab_type": "code",
        "colab": {}
      },
      "source": [
        "# Data manipulation\n",
        "import pandas as pd\n",
        "import numpy as np"
      ],
      "execution_count": 0,
      "outputs": []
    },
    {
      "cell_type": "markdown",
      "metadata": {
        "id": "_L9iPmHswATJ",
        "colab_type": "text"
      },
      "source": [
        "# Basic Dataset Information\n",
        "## (1) Read in a CSV dataset"
      ]
    },
    {
      "cell_type": "code",
      "metadata": {
        "id": "l33sNVq3geX3",
        "colab_type": "code",
        "colab": {}
      },
      "source": [
        "pd.DataFrame.from_csv(“csv_file”)\n",
        "\n",
        "# OR\n",
        "\n",
        "pd.read_csv(“csv_file”)"
      ],
      "execution_count": 0,
      "outputs": []
    },
    {
      "cell_type": "markdown",
      "metadata": {
        "id": "n6CMicL9xNZQ",
        "colab_type": "text"
      },
      "source": [
        "## (2) Read in an Excel dataset"
      ]
    },
    {
      "cell_type": "code",
      "metadata": {
        "id": "iCvDQ7GgxOAN",
        "colab_type": "code",
        "colab": {}
      },
      "source": [
        "pd.read_excel(\"excel_file\")"
      ],
      "execution_count": 0,
      "outputs": []
    },
    {
      "cell_type": "markdown",
      "metadata": {
        "id": "BjjPaedVxOYD",
        "colab_type": "text"
      },
      "source": [
        "## (3) Write your data frame directly to csv\n",
        "\n",
        "Comma separated and without the indices"
      ]
    },
    {
      "cell_type": "code",
      "metadata": {
        "id": "wyyS_fwKxOnd",
        "colab_type": "code",
        "colab": {}
      },
      "source": [
        "df.to_csv(\"data.csv\", sep=\",\", index=False)"
      ],
      "execution_count": 0,
      "outputs": []
    },
    {
      "cell_type": "markdown",
      "metadata": {
        "id": "SbLNfuSbxO31",
        "colab_type": "text"
      },
      "source": [
        "## (4) Basic dataset feature info"
      ]
    },
    {
      "cell_type": "code",
      "metadata": {
        "id": "6IjaCTZ9xPID",
        "colab_type": "code",
        "colab": {}
      },
      "source": [
        "df.info()"
      ],
      "execution_count": 0,
      "outputs": []
    },
    {
      "cell_type": "markdown",
      "metadata": {
        "id": "gieatWYJxPaX",
        "colab_type": "text"
      },
      "source": [
        "## (5) Basic dataset statistics"
      ]
    },
    {
      "cell_type": "code",
      "metadata": {
        "id": "hy2gLQxoxPmn",
        "colab_type": "code",
        "colab": {}
      },
      "source": [
        "print(df.describe())"
      ],
      "execution_count": 0,
      "outputs": []
    },
    {
      "cell_type": "markdown",
      "metadata": {
        "id": "bZSmLFx9xPzs",
        "colab_type": "text"
      },
      "source": [
        "## (6) Print data frame in a table"
      ]
    },
    {
      "cell_type": "code",
      "metadata": {
        "id": "ddw-1cNPxQEN",
        "colab_type": "code",
        "colab": {}
      },
      "source": [
        "print(tabulate(print_table, headers=headers))"
      ],
      "execution_count": 0,
      "outputs": []
    },
    {
      "cell_type": "markdown",
      "metadata": {
        "id": "Rec2isLWxQTb",
        "colab_type": "text"
      },
      "source": [
        "where “print_table” is a list of lists and “headers” is a list of the string headers\n",
        "## (7) List the column names"
      ]
    },
    {
      "cell_type": "code",
      "metadata": {
        "id": "MHtkTkyQxQff",
        "colab_type": "code",
        "colab": {}
      },
      "source": [
        "df.columns"
      ],
      "execution_count": 0,
      "outputs": []
    },
    {
      "cell_type": "markdown",
      "metadata": {
        "id": "zmRm4SdJxQwL",
        "colab_type": "text"
      },
      "source": [
        "# Basic Data Handling\n",
        "## (8) Drop missing data"
      ]
    },
    {
      "cell_type": "code",
      "metadata": {
        "id": "q2grkn1YxQ9e",
        "colab_type": "code",
        "colab": {}
      },
      "source": [
        "df.dropna(axis=0, how='any')"
      ],
      "execution_count": 0,
      "outputs": []
    },
    {
      "cell_type": "markdown",
      "metadata": {
        "id": "T8ezPTiJxROC",
        "colab_type": "text"
      },
      "source": [
        "Returns object with labels on given axis omitted where alternately any or all of the data are missing\n",
        "## (9) Replace missing data"
      ]
    },
    {
      "cell_type": "code",
      "metadata": {
        "id": "uDk7IVNlxRZ_",
        "colab_type": "code",
        "colab": {}
      },
      "source": [
        "df.replace(to_replace=None, value=None)"
      ],
      "execution_count": 0,
      "outputs": []
    },
    {
      "cell_type": "markdown",
      "metadata": {
        "id": "hlaRi6N2xRp1",
        "colab_type": "text"
      },
      "source": [
        "replaces values given in “to_replace” with “value”.\n",
        "## (10) Check for NANs"
      ]
    },
    {
      "cell_type": "code",
      "metadata": {
        "id": "vbuyJCMAxR7s",
        "colab_type": "code",
        "colab": {}
      },
      "source": [
        "pd.isnull(object)"
      ],
      "execution_count": 0,
      "outputs": []
    },
    {
      "cell_type": "markdown",
      "metadata": {
        "id": "wkt9yb32EfLY",
        "colab_type": "text"
      },
      "source": [
        "Detect missing values (NaN in numeric arrays, None/NaN in object arrays)\n",
        "## (11) Drop a feature"
      ]
    },
    {
      "cell_type": "code",
      "metadata": {
        "id": "1RWQDGjrEfu0",
        "colab_type": "code",
        "colab": {}
      },
      "source": [
        "df.drop('feature_variable_name', axis=1)"
      ],
      "execution_count": 0,
      "outputs": []
    },
    {
      "cell_type": "markdown",
      "metadata": {
        "id": "NERp53k1EuaM",
        "colab_type": "text"
      },
      "source": [
        "axis is either 0 for rows, 1 for columns\n",
        "## (12) Convert object type to float"
      ]
    },
    {
      "cell_type": "code",
      "metadata": {
        "id": "zKJ5nJ9gEgPm",
        "colab_type": "code",
        "colab": {}
      },
      "source": [
        "pd.to_numeric(df[\"feature_name\"], errors='coerce')"
      ],
      "execution_count": 0,
      "outputs": []
    },
    {
      "cell_type": "markdown",
      "metadata": {
        "id": "aP6UA0qfEgme",
        "colab_type": "text"
      },
      "source": [
        "Convert object types to numeric to be able to perform computations (in case they are string)\n",
        "## (13) Convert data frame to numpy array"
      ]
    },
    {
      "cell_type": "code",
      "metadata": {
        "id": "zPX92oP7Eg0s",
        "colab_type": "code",
        "colab": {}
      },
      "source": [
        "df.as_matrix()"
      ],
      "execution_count": 0,
      "outputs": []
    },
    {
      "cell_type": "markdown",
      "metadata": {
        "id": "0I0TJyz6EhU7",
        "colab_type": "text"
      },
      "source": [
        "## (14) Get first “n” rows of a data frame"
      ]
    },
    {
      "cell_type": "code",
      "metadata": {
        "id": "zgMyW9tyEhlP",
        "colab_type": "code",
        "colab": {}
      },
      "source": [
        "df.head(n)"
      ],
      "execution_count": 0,
      "outputs": []
    },
    {
      "cell_type": "markdown",
      "metadata": {
        "id": "4C51ITChElYz",
        "colab_type": "text"
      },
      "source": [
        "## (15) Get data by feature name"
      ]
    },
    {
      "cell_type": "code",
      "metadata": {
        "id": "imGvDZD5EiIk",
        "colab_type": "code",
        "colab": {}
      },
      "source": [
        "df.loc[feature_name]"
      ],
      "execution_count": 0,
      "outputs": []
    },
    {
      "cell_type": "markdown",
      "metadata": {
        "id": "FvSU5kdyEjn1",
        "colab_type": "text"
      },
      "source": [
        "# Operating on data frames\n",
        "## (16) Apply a function to a data frame\n",
        "\n",
        "This one will multiple all values in the “height” column of the data frame by 2"
      ]
    },
    {
      "cell_type": "code",
      "metadata": {
        "id": "1zAFIlUOEitU",
        "colab_type": "code",
        "colab": {}
      },
      "source": [
        "df[\"height\"].apply(lambda height: 2 * height)\n",
        "\n",
        "##OR\n",
        "\n",
        "def multiply(x):\n",
        "    return x * 2df[\"height\"].apply(multiply)"
      ],
      "execution_count": 0,
      "outputs": []
    },
    {
      "cell_type": "markdown",
      "metadata": {
        "id": "jSVMajlTEkxZ",
        "colab_type": "text"
      },
      "source": [
        "## (17) Renaming a column\n",
        "\n",
        "Here we will rename the 3rd column of the data frame to be called “size”"
      ]
    },
    {
      "cell_type": "code",
      "metadata": {
        "id": "48cYMTZCEjL7",
        "colab_type": "code",
        "colab": {}
      },
      "source": [
        "df.rename(columns = {df.columns[2]:'size'}, inplace=True)"
      ],
      "execution_count": 0,
      "outputs": []
    },
    {
      "cell_type": "markdown",
      "metadata": {
        "id": "LzNfz66DEjBd",
        "colab_type": "text"
      },
      "source": [
        "## (18) Get the unique entries of a column\n",
        "\n",
        "Here we will get the unique entries of the column “name”"
      ]
    },
    {
      "cell_type": "code",
      "metadata": {
        "id": "EPK1WEFsEjxa",
        "colab_type": "code",
        "colab": {}
      },
      "source": [
        "df[\"name\"].unique()"
      ],
      "execution_count": 0,
      "outputs": []
    },
    {
      "cell_type": "markdown",
      "metadata": {
        "id": "kDfcb5EFEigy",
        "colab_type": "text"
      },
      "source": [
        "## (19) Accessing sub-data frames\n",
        "\n",
        "Here we’ll grab a selection of the columns, “name” and “size” from the data frame"
      ]
    },
    {
      "cell_type": "code",
      "metadata": {
        "id": "IfsTA2iHE8oD",
        "colab_type": "code",
        "colab": {}
      },
      "source": [
        "new_df = df[[\"name\", \"size\"]]"
      ],
      "execution_count": 0,
      "outputs": []
    },
    {
      "cell_type": "markdown",
      "metadata": {
        "id": "FqGXRQNGE6KY",
        "colab_type": "text"
      },
      "source": [
        "## (20) Summary information about your data"
      ]
    },
    {
      "cell_type": "code",
      "metadata": {
        "id": "OzzMgqk2E_vn",
        "colab_type": "code",
        "colab": {}
      },
      "source": [
        "# Sum of values in a data frame\n",
        "df.sum()\n",
        "\n",
        "# Lowest value of a data frame\n",
        "df.min()\n",
        "\n",
        "# Highest value\n",
        "df.max()\n",
        "\n",
        "# Index of the lowest value\n",
        "df.idxmin()\n",
        "\n",
        "# Index of the highest value\n",
        "df.idxmax()\n",
        "\n",
        "# Statistical summary of the data frame, with quartiles, median, etc.\n",
        "df.describe()\n",
        "\n",
        "# Average values\n",
        "df.mean()\n",
        "\n",
        "# Median values\n",
        "df.median()\n",
        "\n",
        "# Correlation between columns\n",
        "df.corr()\n",
        "\n",
        "# To get these values for only one column, just select it like this#\n",
        "df[\"size\"].median()"
      ],
      "execution_count": 0,
      "outputs": []
    },
    {
      "cell_type": "markdown",
      "metadata": {
        "id": "g5ZJy6EKEh6e",
        "colab_type": "text"
      },
      "source": [
        ""
      ]
    },
    {
      "cell_type": "code",
      "metadata": {
        "id": "RD2bIwBHGPyW",
        "colab_type": "code",
        "colab": {}
      },
      "source": [
        ""
      ],
      "execution_count": 0,
      "outputs": []
    },
    {
      "cell_type": "markdown",
      "metadata": {
        "id": "nged7BFiEgGu",
        "colab_type": "text"
      },
      "source": [
        ""
      ]
    },
    {
      "cell_type": "code",
      "metadata": {
        "id": "N1Q2gXQuGRA-",
        "colab_type": "code",
        "colab": {}
      },
      "source": [
        ""
      ],
      "execution_count": 0,
      "outputs": []
    },
    {
      "cell_type": "markdown",
      "metadata": {
        "id": "mS_orP9WGSMx",
        "colab_type": "text"
      },
      "source": [
        ""
      ]
    },
    {
      "cell_type": "code",
      "metadata": {
        "id": "UoQcmRjEGSyL",
        "colab_type": "code",
        "colab": {}
      },
      "source": [
        ""
      ],
      "execution_count": 0,
      "outputs": []
    },
    {
      "cell_type": "markdown",
      "metadata": {
        "id": "7cXeRSChGTPW",
        "colab_type": "text"
      },
      "source": [
        ""
      ]
    },
    {
      "cell_type": "code",
      "metadata": {
        "id": "jtbHCxsiGTn7",
        "colab_type": "code",
        "colab": {}
      },
      "source": [
        ""
      ],
      "execution_count": 0,
      "outputs": []
    },
    {
      "cell_type": "markdown",
      "metadata": {
        "id": "x6623rL5GUDU",
        "colab_type": "text"
      },
      "source": [
        ""
      ]
    },
    {
      "cell_type": "code",
      "metadata": {
        "id": "XDf2UZDXGUaq",
        "colab_type": "code",
        "colab": {}
      },
      "source": [
        ""
      ],
      "execution_count": 0,
      "outputs": []
    }
  ]
}